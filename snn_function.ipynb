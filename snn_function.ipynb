{
 "cells": [
  {
   "cell_type": "code",
   "execution_count": 56,
   "id": "403a4d59",
   "metadata": {},
   "outputs": [],
   "source": [
    "import pandas as pd\n",
    "import numpy as np\n",
    "import math"
   ]
  },
  {
   "cell_type": "code",
   "execution_count": 57,
   "id": "99501970",
   "metadata": {},
   "outputs": [],
   "source": [
    "df = pd.read_csv(\"sine_wave.csv\")\n",
    "#print(df)\n",
    "point_cloud_data = df.to_numpy()"
   ]
  },
  {
   "cell_type": "code",
   "execution_count": 58,
   "id": "ffb58d3f",
   "metadata": {},
   "outputs": [],
   "source": [
    "dau = 0.1  # Minimum accuracy of point cloud\n",
    "N = point_cloud_data.shape[0] # Total number of points\n",
    "m = 5 # Empirical Value need to be checked for our case"
   ]
  },
  {
   "cell_type": "code",
   "execution_count": 59,
   "id": "f0ee4f84",
   "metadata": {},
   "outputs": [],
   "source": [
    "x_min = min(point_cloud_data[:,0]) - dau\n",
    "x_max = max(point_cloud_data[:,0]) + dau\n",
    "y_min = min(point_cloud_data[:,1]) - dau\n",
    "y_max = max(point_cloud_data[:,1]) + dau"
   ]
  },
  {
   "cell_type": "code",
   "execution_count": 60,
   "id": "c7f688e4",
   "metadata": {},
   "outputs": [],
   "source": [
    "S = ((x_max - x_min)*(y_max - y_min))/N\n",
    "e = (m*S)**0.5 # cell length"
   ]
  },
  {
   "cell_type": "code",
   "execution_count": 61,
   "id": "2d3f7c87",
   "metadata": {},
   "outputs": [],
   "source": [
    "n_x = math.ceil((x_max - x_min)/e)  # number of cells in x\n",
    "n_y = math.ceil((y_max - y_min)/e)  # number of cells in y"
   ]
  },
  {
   "cell_type": "code",
   "execution_count": 62,
   "id": "7c8ee982",
   "metadata": {},
   "outputs": [],
   "source": [
    "def get_grid_id(i):\n",
    "    point = point_cloud_data[i]\n",
    "    return n_x * math.floor((point[1]-y_min)/e) + math.ceil((point[0] - x_min)/e)"
   ]
  },
  {
   "cell_type": "code",
   "execution_count": 63,
   "id": "5a81aab7",
   "metadata": {},
   "outputs": [],
   "source": [
    "num_grids = n_x * n_y;"
   ]
  },
  {
   "cell_type": "code",
   "execution_count": 74,
   "id": "d209c8c8",
   "metadata": {},
   "outputs": [],
   "source": [
    "grid_id2points = [[] for i in range(num_grids+1)]\n",
    "for i in range (N):grid_id2points[get_grid_id(i)].append(i)"
   ]
  },
  {
   "cell_type": "code",
   "execution_count": 48,
   "id": "ed14dc8b",
   "metadata": {},
   "outputs": [],
   "source": [
    "def is_valid(l):\n",
    "    a,b = l\n",
    "    return (a>=0 and a<=n_x-1 and b>=0 and b<=n_y-1)\n",
    "\n",
    "def generation_points(i, n=1):\n",
    "    a,b = (i-1)//32 , (i-1)%32\n",
    "    l = [(a+of1,b+of2) for of2 in range(-n,n+1) for of1 in range(-n,n+1)]\n",
    "    l = list(filter(is_valid,l))\n",
    "    l = [a*32+b+1 for a,b in l]\n",
    "    return l"
   ]
  },
  {
   "cell_type": "code",
   "execution_count": null,
   "id": "f75e6f1d",
   "metadata": {},
   "outputs": [],
   "source": []
  },
  {
   "cell_type": "code",
   "execution_count": 49,
   "id": "c9c7a89c",
   "metadata": {},
   "outputs": [],
   "source": [
    "def compute_r2(centre_point, point_id):\n",
    "    pts = point_cloud_data[point_id]\n",
    "    r_2 = (pts[0] - centre_point[0])**2 + (pts[1] - centre_point[1])**2 + (pts[2] - centre_point[2])**2\n",
    "    return r_2"
   ]
  },
  {
   "cell_type": "code",
   "execution_count": 50,
   "id": "d6e70d32",
   "metadata": {},
   "outputs": [],
   "source": [
    "def snn(ctr_pt_id):\n",
    "    snn_pt_ids, gen = []\n",
    "    grid_id = get_grid_id(point_cloud_data[ctr_pt_id])\n",
    "    centre_point = point_cloud_data[point_id]\n",
    "    \n",
    "    gen_id = 1;\n",
    "    while(gen_id<3):\n",
    "        gen = generation_points(grid_id, gen_id)\n",
    "        r_2 = (gen_id * e)**2\n",
    "        for grid_id in gen:\n",
    "            point_ids = grid_id2points[grid_id]\n",
    "            x = point_cloud_data[point_ids]-point_cloud_data[i]\n",
    "            bool_array = np.sum(np.square(x),1) <= r_2\n",
    "            snn_pt_ids.append(point_ids[bool_array])\n",
    "            \n",
    "        if(len(snn_pt_ids)):\n",
    "            break\n",
    "            \n",
    "    return snn_pt_ids"
   ]
  },
  {
   "cell_type": "code",
   "execution_count": null,
   "id": "af2b1b70",
   "metadata": {},
   "outputs": [],
   "source": []
  },
  {
   "cell_type": "code",
   "execution_count": null,
   "id": "dceb2f75",
   "metadata": {},
   "outputs": [],
   "source": []
  }
 ],
 "metadata": {
  "kernelspec": {
   "display_name": "Python 3 (ipykernel)",
   "language": "python",
   "name": "python3"
  },
  "language_info": {
   "codemirror_mode": {
    "name": "ipython",
    "version": 3
   },
   "file_extension": ".py",
   "mimetype": "text/x-python",
   "name": "python",
   "nbconvert_exporter": "python",
   "pygments_lexer": "ipython3",
   "version": "3.11.4"
  }
 },
 "nbformat": 4,
 "nbformat_minor": 5
}
